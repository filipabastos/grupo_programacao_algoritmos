{
 "cells": [
  {
   "cell_type": "markdown",
   "metadata": {},
   "source": [
    "**O URL para o conjunto de dados: https://data.telangana.gov.in/dataset/demographics**\n",
    "\n"
   ]
  },
  {
   "cell_type": "markdown",
   "metadata": {},
   "source": [
    "**O documento em análise foi escolhido porque obedece à estrutura de dados requesitada (arquivo CSV e valores separado por vírgula) e trabalha elementos que nos são familiares que são distribuição de dados demográficos.**"
   ]
  },
  {
   "cell_type": "markdown",
   "metadata": {},
   "source": [
    "**O documento selecionado foi extraído do censo de 2011 da Índia, e refere-se a todos os distritos de Telangana mostra estatísticas básicas do número de homens, mulheres, proporção de sexo (mulheres por 1000 homens), população rural, população urbana, população rural (%), população urbana (%) e famílias.**"
   ]
  },
  {
   "cell_type": "markdown",
   "metadata": {},
   "source": [
    "A célula seguinte irá impor a a biblioteca pandas para que se possa proceder à análise e manipulação dos dados em questão. Posteriormente, através da função read_csv carregamos o conjunto de dados presente no ficheiro csv em análise. E finalmente, através da função head, mostramos as 10 primeiras linhas de código."
   ]
  },
  {
   "cell_type": "code",
   "execution_count": 2,
   "metadata": {},
   "outputs": [
    {
     "data": {
      "text/html": [
       "<div>\n",
       "<style scoped>\n",
       "    .dataframe tbody tr th:only-of-type {\n",
       "        vertical-align: middle;\n",
       "    }\n",
       "\n",
       "    .dataframe tbody tr th {\n",
       "        vertical-align: top;\n",
       "    }\n",
       "\n",
       "    .dataframe thead th {\n",
       "        text-align: right;\n",
       "    }\n",
       "</style>\n",
       "<table border=\"1\" class=\"dataframe\">\n",
       "  <thead>\n",
       "    <tr style=\"text-align: right;\">\n",
       "      <th></th>\n",
       "      <th>Districts</th>\n",
       "      <th>Males</th>\n",
       "      <th>Females</th>\n",
       "      <th>Sex Ratio (Females per 1000 Males)</th>\n",
       "      <th>Rural</th>\n",
       "      <th>Urban</th>\n",
       "      <th>Rural Population (%)</th>\n",
       "      <th>Urban Population (%)</th>\n",
       "      <th>Households</th>\n",
       "    </tr>\n",
       "  </thead>\n",
       "  <tbody>\n",
       "    <tr>\n",
       "      <th>0</th>\n",
       "      <td>ADILABAD</td>\n",
       "      <td>356407</td>\n",
       "      <td>352565</td>\n",
       "      <td>989</td>\n",
       "      <td>541226</td>\n",
       "      <td>167746</td>\n",
       "      <td>76.34</td>\n",
       "      <td>23.66</td>\n",
       "      <td>156683</td>\n",
       "    </tr>\n",
       "    <tr>\n",
       "      <th>1</th>\n",
       "      <td>BHADRADRI</td>\n",
       "      <td>532390</td>\n",
       "      <td>536871</td>\n",
       "      <td>1008</td>\n",
       "      <td>730178</td>\n",
       "      <td>339083</td>\n",
       "      <td>68.29</td>\n",
       "      <td>31.71</td>\n",
       "      <td>279190</td>\n",
       "    </tr>\n",
       "    <tr>\n",
       "      <th>2</th>\n",
       "      <td>HYDERABAD</td>\n",
       "      <td>2018575</td>\n",
       "      <td>1924748</td>\n",
       "      <td>954</td>\n",
       "      <td>0</td>\n",
       "      <td>3943323</td>\n",
       "      <td>0.00</td>\n",
       "      <td>100.00</td>\n",
       "      <td>849051</td>\n",
       "    </tr>\n",
       "    <tr>\n",
       "      <th>3</th>\n",
       "      <td>JAGTIAL</td>\n",
       "      <td>484079</td>\n",
       "      <td>501338</td>\n",
       "      <td>1036</td>\n",
       "      <td>764081</td>\n",
       "      <td>221336</td>\n",
       "      <td>77.54</td>\n",
       "      <td>22.46</td>\n",
       "      <td>253619</td>\n",
       "    </tr>\n",
       "    <tr>\n",
       "      <th>4</th>\n",
       "      <td>JANGAON</td>\n",
       "      <td>283648</td>\n",
       "      <td>282728</td>\n",
       "      <td>997</td>\n",
       "      <td>495019</td>\n",
       "      <td>71357</td>\n",
       "      <td>87.40</td>\n",
       "      <td>12.60</td>\n",
       "      <td>139238</td>\n",
       "    </tr>\n",
       "    <tr>\n",
       "      <th>5</th>\n",
       "      <td>JAYASHANKAR</td>\n",
       "      <td>354203</td>\n",
       "      <td>357231</td>\n",
       "      <td>1009</td>\n",
       "      <td>657554</td>\n",
       "      <td>53880</td>\n",
       "      <td>92.43</td>\n",
       "      <td>7.57</td>\n",
       "      <td>189622</td>\n",
       "    </tr>\n",
       "    <tr>\n",
       "      <th>6</th>\n",
       "      <td>JOGULAMBA</td>\n",
       "      <td>309274</td>\n",
       "      <td>300716</td>\n",
       "      <td>972</td>\n",
       "      <td>546813</td>\n",
       "      <td>63177</td>\n",
       "      <td>89.64</td>\n",
       "      <td>10.36</td>\n",
       "      <td>132261</td>\n",
       "    </tr>\n",
       "    <tr>\n",
       "      <th>7</th>\n",
       "      <td>KAMAREDDY</td>\n",
       "      <td>478389</td>\n",
       "      <td>494236</td>\n",
       "      <td>1033</td>\n",
       "      <td>849003</td>\n",
       "      <td>123622</td>\n",
       "      <td>87.29</td>\n",
       "      <td>12.71</td>\n",
       "      <td>222513</td>\n",
       "    </tr>\n",
       "    <tr>\n",
       "      <th>8</th>\n",
       "      <td>KARIMNAGAR</td>\n",
       "      <td>504620</td>\n",
       "      <td>501091</td>\n",
       "      <td>993</td>\n",
       "      <td>696727</td>\n",
       "      <td>308984</td>\n",
       "      <td>69.28</td>\n",
       "      <td>30.72</td>\n",
       "      <td>258485</td>\n",
       "    </tr>\n",
       "    <tr>\n",
       "      <th>9</th>\n",
       "      <td>KHAMMAM</td>\n",
       "      <td>699124</td>\n",
       "      <td>702515</td>\n",
       "      <td>1005</td>\n",
       "      <td>1084811</td>\n",
       "      <td>316828</td>\n",
       "      <td>77.40</td>\n",
       "      <td>22.60</td>\n",
       "      <td>382929</td>\n",
       "    </tr>\n",
       "  </tbody>\n",
       "</table>\n",
       "</div>"
      ],
      "text/plain": [
       "      Districts    Males  Females  Sex Ratio (Females per 1000 Males)  \\\n",
       "0      ADILABAD   356407   352565                                 989   \n",
       "1     BHADRADRI   532390   536871                                1008   \n",
       "2     HYDERABAD  2018575  1924748                                 954   \n",
       "3      JAGTIAL    484079   501338                                1036   \n",
       "4      JANGAON    283648   282728                                 997   \n",
       "5  JAYASHANKAR    354203   357231                                1009   \n",
       "6    JOGULAMBA    309274   300716                                 972   \n",
       "7    KAMAREDDY    478389   494236                                1033   \n",
       "8   KARIMNAGAR    504620   501091                                 993   \n",
       "9      KHAMMAM    699124   702515                                1005   \n",
       "\n",
       "     Rural    Urban  Rural Population (%)  Urban Population (%)  Households  \n",
       "0   541226   167746                 76.34                 23.66      156683  \n",
       "1   730178   339083                 68.29                 31.71      279190  \n",
       "2        0  3943323                  0.00                100.00      849051  \n",
       "3   764081   221336                 77.54                 22.46      253619  \n",
       "4   495019    71357                 87.40                 12.60      139238  \n",
       "5   657554    53880                 92.43                  7.57      189622  \n",
       "6   546813    63177                 89.64                 10.36      132261  \n",
       "7   849003   123622                 87.29                 12.71      222513  \n",
       "8   696727   308984                 69.28                 30.72      258485  \n",
       "9  1084811   316828                 77.40                 22.60      382929  "
      ]
     },
     "execution_count": 2,
     "metadata": {},
     "output_type": "execute_result"
    }
   ],
   "source": [
    "import pandas as pd\n",
    "df = pd.read_csv('Demographics.csv')\n",
    "df.head(10)"
   ]
  },
  {
   "cell_type": "markdown",
   "metadata": {},
   "source": [
    "**Através do dtypes vemos o tipo de dados armazenado em cada coluna.**"
   ]
  },
  {
   "cell_type": "code",
   "execution_count": 3,
   "metadata": {},
   "outputs": [
    {
     "data": {
      "text/plain": [
       "Districts                              object\n",
       "Males                                   int64\n",
       "Females                                 int64\n",
       "Sex Ratio (Females per 1000 Males)      int64\n",
       "Rural                                   int64\n",
       "Urban                                   int64\n",
       "Rural Population (%)                  float64\n",
       "Urban Population (%)                  float64\n",
       "Households                              int64\n",
       "dtype: object"
      ]
     },
     "execution_count": 3,
     "metadata": {},
     "output_type": "execute_result"
    }
   ],
   "source": [
    "df.dtypes"
   ]
  },
  {
   "cell_type": "code",
   "execution_count": null,
   "metadata": {},
   "outputs": [],
   "source": []
  }
 ],
 "metadata": {
  "kernelspec": {
   "display_name": "Python 3",
   "language": "python",
   "name": "python3"
  },
  "language_info": {
   "codemirror_mode": {
    "name": "ipython",
    "version": 3
   },
   "file_extension": ".py",
   "mimetype": "text/x-python",
   "name": "python",
   "nbconvert_exporter": "python",
   "pygments_lexer": "ipython3",
   "version": "3.7.6"
  }
 },
 "nbformat": 4,
 "nbformat_minor": 4
}
